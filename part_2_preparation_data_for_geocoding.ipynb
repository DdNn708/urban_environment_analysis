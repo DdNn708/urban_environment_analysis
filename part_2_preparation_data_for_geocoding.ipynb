{
 "cells": [
  {
   "cell_type": "markdown",
   "metadata": {},
   "source": [
    "# Подготовка данных для геокодирования"
   ]
  },
  {
   "cell_type": "code",
   "execution_count": 29,
   "metadata": {},
   "outputs": [],
   "source": [
    "import re\n",
    "\n",
    "import pandas as pd\n",
    "from pandas.io.json import json_normalize\n",
    "\n",
    "from utils.prepared_addresses import drop_one_time, string_handler"
   ]
  },
  {
   "cell_type": "code",
   "execution_count": 30,
   "metadata": {},
   "outputs": [],
   "source": [
    "pd.set_option('display.max_columns', 100)\n",
    "pd.set_option('display.max_rows', 1000)\n",
    "pd.set_option('display.max_colwidth', 100)"
   ]
  },
  {
   "cell_type": "code",
   "execution_count": 31,
   "metadata": {},
   "outputs": [],
   "source": [
    "def get_splited_string_len(string: str):\n",
    "    return len(string.split(' '))"
   ]
  },
  {
   "cell_type": "code",
   "execution_count": 27,
   "metadata": {},
   "outputs": [
    {
     "name": "stdout",
     "output_type": "stream",
     "text": [
      "Записей в исходном файле 3505\n",
      "Записей после обработки 3492\n"
     ]
    },
    {
     "name": "stderr",
     "output_type": "stream",
     "text": [
      "/Users/dnv/projects/urban_environment_analysis/env/lib/python3.7/site-packages/ipykernel_launcher.py:20: SettingWithCopyWarning: \n",
      "A value is trying to be set on a copy of a slice from a DataFrame\n",
      "\n",
      "See the caveats in the documentation: http://pandas.pydata.org/pandas-docs/stable/user_guide/indexing.html#returning-a-view-versus-a-copy\n",
      "/Users/dnv/projects/urban_environment_analysis/env/lib/python3.7/site-packages/ipykernel_launcher.py:24: SettingWithCopyWarning: \n",
      "A value is trying to be set on a copy of a slice from a DataFrame\n",
      "\n",
      "See the caveats in the documentation: http://pandas.pydata.org/pandas-docs/stable/user_guide/indexing.html#returning-a-view-versus-a-copy\n"
     ]
    }
   ],
   "source": [
    "df = pd.read_csv('data/export-reestrmkd-25-20191201.csv', sep=';')\n",
    "df = df[df.formalname_city == 'Владивосток'].reset_index(drop=True)\n",
    "print('Записей в исходном файле', len(df))\n",
    "\n",
    "# Удалить не нужные записи\n",
    "drop_one_time(df)\n",
    "df.reset_index(inplace=True)\n",
    "\n",
    "# Создать колонки для дальнейшего заполнения\n",
    "df['splited_string_len'] = pd.np.NAN\n",
    "df['prepared_address_v1'] = pd.np.NAN\n",
    "df['lat'] = pd.np.NAN\n",
    "df['lon'] = pd.np.NAN\n",
    "df['raw_class'] = pd.np.NAN\n",
    "df['raw_type'] = pd.np.NAN\n",
    "print('Записей после обработки', len(df))\n",
    "\n",
    "# Подготовка адреса\n",
    "for index in df.index:\n",
    "    df.prepared_address_v1[index] = string_handler(df.address[index])\n",
    "\n",
    "# Разбиение адреса по пробелам и подсчет количества получившихся элементов\n",
    "for index in df.index:\n",
    "    df.splited_string_len[index] = get_splited_string_len(df.prepared_address_v1[index])\n"
   ]
  },
  {
   "cell_type": "code",
   "execution_count": 32,
   "metadata": {},
   "outputs": [
    {
     "name": "stdout",
     "output_type": "stream",
     "text": [
      "shortname_street\n",
      "Проспект      78\n",
      "пер           47\n",
      "пр-кт        275\n",
      "тер            4\n",
      "ул          3088\n",
      "Name: id, dtype: int64\n",
      "\n",
      "\n",
      "splited_string_len\n",
      "7.0    2841\n",
      "8.0     614\n",
      "9.0      37\n",
      "Name: prepared_address_v1, dtype: int64\n",
      "\n",
      "\n"
     ]
    },
    {
     "data": {
      "text/plain": [
       "3492"
      ]
     },
     "execution_count": 32,
     "metadata": {},
     "output_type": "execute_result"
    }
   ],
   "source": [
    "print(df.groupby(['shortname_street'])['id'].size())\n",
    "print('\\n')\n",
    "print(df.groupby(['splited_string_len'])['prepared_address_v1'].count())\n",
    "print('\\n')\n",
    "len(df)"
   ]
  },
  {
   "cell_type": "code",
   "execution_count": 33,
   "metadata": {},
   "outputs": [],
   "source": [
    "df.to_csv('data/prepared_addresses.csv', index=False)"
   ]
  },
  {
   "cell_type": "code",
   "execution_count": null,
   "metadata": {},
   "outputs": [],
   "source": []
  }
 ],
 "metadata": {
  "kernelspec": {
   "display_name": "Python 3",
   "language": "python",
   "name": "python3"
  },
  "language_info": {
   "codemirror_mode": {
    "name": "ipython",
    "version": 3
   },
   "file_extension": ".py",
   "mimetype": "text/x-python",
   "name": "python",
   "nbconvert_exporter": "python",
   "pygments_lexer": "ipython3",
   "version": "3.7.5"
  }
 },
 "nbformat": 4,
 "nbformat_minor": 2
}
